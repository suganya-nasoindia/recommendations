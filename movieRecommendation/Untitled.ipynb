{
 "cells": [
  {
   "cell_type": "code",
   "execution_count": 1,
   "id": "ffb4b53a-8d1e-4c95-be87-41bd63a1f264",
   "metadata": {
    "tags": []
   },
   "outputs": [],
   "source": [
    "import pandas as pd\n",
    "import numpy as np\n",
    "from sklearn.feature_extraction.text import CountVectorizer\n",
    "from sklearn.metrics.pairwise import cosine_similarity\n",
    "df = pd.read_csv(r\"C:\\Users\\Lenovo\\Downloads\\Tamil_movies_dataset.csv\")"
   ]
  },
  {
   "cell_type": "code",
   "execution_count": 2,
   "id": "ba6d0124-da75-4ea5-90df-f38ff034a1c1",
   "metadata": {
    "tags": []
   },
   "outputs": [
    {
     "data": {
      "text/html": [
       "<div>\n",
       "<style scoped>\n",
       "    .dataframe tbody tr th:only-of-type {\n",
       "        vertical-align: middle;\n",
       "    }\n",
       "\n",
       "    .dataframe tbody tr th {\n",
       "        vertical-align: top;\n",
       "    }\n",
       "\n",
       "    .dataframe thead th {\n",
       "        text-align: right;\n",
       "    }\n",
       "</style>\n",
       "<table border=\"1\" class=\"dataframe\">\n",
       "  <thead>\n",
       "    <tr style=\"text-align: right;\">\n",
       "      <th></th>\n",
       "      <th>MovieName</th>\n",
       "      <th>Genre</th>\n",
       "      <th>Rating</th>\n",
       "      <th>Director</th>\n",
       "      <th>Actor</th>\n",
       "      <th>PeopleVote</th>\n",
       "      <th>Year</th>\n",
       "      <th>Hero_Rating</th>\n",
       "      <th>movie_rating</th>\n",
       "      <th>content_rating</th>\n",
       "    </tr>\n",
       "  </thead>\n",
       "  <tbody>\n",
       "    <tr>\n",
       "      <th>0</th>\n",
       "      <td>Mouna Guru</td>\n",
       "      <td>Action</td>\n",
       "      <td>7.7</td>\n",
       "      <td>Santha Kumar</td>\n",
       "      <td>Arulnithi</td>\n",
       "      <td>746</td>\n",
       "      <td>2011</td>\n",
       "      <td>8</td>\n",
       "      <td>8</td>\n",
       "      <td>7.900000</td>\n",
       "    </tr>\n",
       "    <tr>\n",
       "      <th>1</th>\n",
       "      <td>7 Aum Arivu</td>\n",
       "      <td>Action</td>\n",
       "      <td>6.2</td>\n",
       "      <td>A.R. Murugadoss</td>\n",
       "      <td>Suriya</td>\n",
       "      <td>9479</td>\n",
       "      <td>2011</td>\n",
       "      <td>9</td>\n",
       "      <td>9</td>\n",
       "      <td>8.066667</td>\n",
       "    </tr>\n",
       "    <tr>\n",
       "      <th>2</th>\n",
       "      <td>Vaagai Sooda Vaa</td>\n",
       "      <td>Comedy</td>\n",
       "      <td>8.0</td>\n",
       "      <td>A. Sarkunam</td>\n",
       "      <td>Vimal</td>\n",
       "      <td>14522</td>\n",
       "      <td>2011</td>\n",
       "      <td>8</td>\n",
       "      <td>7</td>\n",
       "      <td>7.666667</td>\n",
       "    </tr>\n",
       "    <tr>\n",
       "      <th>3</th>\n",
       "      <td>Mankatha</td>\n",
       "      <td>Action</td>\n",
       "      <td>7.6</td>\n",
       "      <td>Venkat Prabhu</td>\n",
       "      <td>Ajith Kumar</td>\n",
       "      <td>12276</td>\n",
       "      <td>2011</td>\n",
       "      <td>6</td>\n",
       "      <td>8</td>\n",
       "      <td>7.200000</td>\n",
       "    </tr>\n",
       "    <tr>\n",
       "      <th>4</th>\n",
       "      <td>Kanchana: Muni 2</td>\n",
       "      <td>Comedy</td>\n",
       "      <td>6.5</td>\n",
       "      <td>Lawrence Raghavendra</td>\n",
       "      <td>Lawrence Raghavendra</td>\n",
       "      <td>1044</td>\n",
       "      <td>2011</td>\n",
       "      <td>8</td>\n",
       "      <td>9</td>\n",
       "      <td>7.833333</td>\n",
       "    </tr>\n",
       "    <tr>\n",
       "      <th>...</th>\n",
       "      <td>...</td>\n",
       "      <td>...</td>\n",
       "      <td>...</td>\n",
       "      <td>...</td>\n",
       "      <td>...</td>\n",
       "      <td>...</td>\n",
       "      <td>...</td>\n",
       "      <td>...</td>\n",
       "      <td>...</td>\n",
       "      <td>...</td>\n",
       "    </tr>\n",
       "    <tr>\n",
       "      <th>324</th>\n",
       "      <td>Dhilluku Dhuddu 2</td>\n",
       "      <td>Comedy</td>\n",
       "      <td>5.3</td>\n",
       "      <td>Rambala</td>\n",
       "      <td>Santhanam</td>\n",
       "      <td>497</td>\n",
       "      <td>2019</td>\n",
       "      <td>7</td>\n",
       "      <td>9</td>\n",
       "      <td>7.100000</td>\n",
       "    </tr>\n",
       "    <tr>\n",
       "      <th>325</th>\n",
       "      <td>Dev</td>\n",
       "      <td>Action</td>\n",
       "      <td>4.8</td>\n",
       "      <td>Rajath Ravishankar</td>\n",
       "      <td>Karthi</td>\n",
       "      <td>724</td>\n",
       "      <td>2019</td>\n",
       "      <td>5</td>\n",
       "      <td>8</td>\n",
       "      <td>5.933333</td>\n",
       "    </tr>\n",
       "    <tr>\n",
       "      <th>326</th>\n",
       "      <td>Charlie Chaplin 2</td>\n",
       "      <td>Comedy</td>\n",
       "      <td>3.8</td>\n",
       "      <td>Sakthi Chidambaram</td>\n",
       "      <td>Prabhu Deva</td>\n",
       "      <td>215</td>\n",
       "      <td>2019</td>\n",
       "      <td>4</td>\n",
       "      <td>7</td>\n",
       "      <td>4.933333</td>\n",
       "    </tr>\n",
       "    <tr>\n",
       "      <th>327</th>\n",
       "      <td>Petta</td>\n",
       "      <td>Action</td>\n",
       "      <td>7.3</td>\n",
       "      <td>Karthik Subbaraj</td>\n",
       "      <td>Rajinikanth</td>\n",
       "      <td>7545</td>\n",
       "      <td>2019</td>\n",
       "      <td>8</td>\n",
       "      <td>8</td>\n",
       "      <td>7.766667</td>\n",
       "    </tr>\n",
       "    <tr>\n",
       "      <th>328</th>\n",
       "      <td>Viswasam</td>\n",
       "      <td>Action</td>\n",
       "      <td>6.7</td>\n",
       "      <td>Siva</td>\n",
       "      <td>Ajith Kumar</td>\n",
       "      <td>5907</td>\n",
       "      <td>2019</td>\n",
       "      <td>8</td>\n",
       "      <td>9</td>\n",
       "      <td>7.900000</td>\n",
       "    </tr>\n",
       "  </tbody>\n",
       "</table>\n",
       "<p>329 rows × 10 columns</p>\n",
       "</div>"
      ],
      "text/plain": [
       "             MovieName   Genre  Rating              Director   \n",
       "0           Mouna Guru  Action     7.7          Santha Kumar  \\\n",
       "1          7 Aum Arivu  Action     6.2       A.R. Murugadoss   \n",
       "2     Vaagai Sooda Vaa  Comedy     8.0           A. Sarkunam   \n",
       "3             Mankatha  Action     7.6         Venkat Prabhu   \n",
       "4     Kanchana: Muni 2  Comedy     6.5  Lawrence Raghavendra   \n",
       "..                 ...     ...     ...                   ...   \n",
       "324  Dhilluku Dhuddu 2  Comedy     5.3               Rambala   \n",
       "325                Dev  Action     4.8    Rajath Ravishankar   \n",
       "326  Charlie Chaplin 2  Comedy     3.8    Sakthi Chidambaram   \n",
       "327              Petta  Action     7.3      Karthik Subbaraj   \n",
       "328           Viswasam  Action     6.7                  Siva   \n",
       "\n",
       "                    Actor  PeopleVote  Year  Hero_Rating  movie_rating   \n",
       "0               Arulnithi         746  2011            8             8  \\\n",
       "1                  Suriya        9479  2011            9             9   \n",
       "2                   Vimal       14522  2011            8             7   \n",
       "3             Ajith Kumar       12276  2011            6             8   \n",
       "4    Lawrence Raghavendra        1044  2011            8             9   \n",
       "..                    ...         ...   ...          ...           ...   \n",
       "324             Santhanam         497  2019            7             9   \n",
       "325                Karthi         724  2019            5             8   \n",
       "326           Prabhu Deva         215  2019            4             7   \n",
       "327           Rajinikanth        7545  2019            8             8   \n",
       "328           Ajith Kumar        5907  2019            8             9   \n",
       "\n",
       "     content_rating  \n",
       "0          7.900000  \n",
       "1          8.066667  \n",
       "2          7.666667  \n",
       "3          7.200000  \n",
       "4          7.833333  \n",
       "..              ...  \n",
       "324        7.100000  \n",
       "325        5.933333  \n",
       "326        4.933333  \n",
       "327        7.766667  \n",
       "328        7.900000  \n",
       "\n",
       "[329 rows x 10 columns]"
      ]
     },
     "execution_count": 2,
     "metadata": {},
     "output_type": "execute_result"
    }
   ],
   "source": [
    "df"
   ]
  },
  {
   "cell_type": "code",
   "execution_count": 3,
   "id": "124ae649-4fee-473e-9e30-ba7ceceddac3",
   "metadata": {
    "tags": []
   },
   "outputs": [
    {
     "name": "stdout",
     "output_type": "stream",
     "text": [
      "<class 'pandas.core.frame.DataFrame'>\n",
      "RangeIndex: 329 entries, 0 to 328\n",
      "Data columns (total 10 columns):\n",
      " #   Column          Non-Null Count  Dtype  \n",
      "---  ------          --------------  -----  \n",
      " 0   MovieName       329 non-null    object \n",
      " 1   Genre           329 non-null    object \n",
      " 2   Rating          329 non-null    float64\n",
      " 3   Director        329 non-null    object \n",
      " 4   Actor           329 non-null    object \n",
      " 5   PeopleVote      329 non-null    int64  \n",
      " 6   Year            329 non-null    int64  \n",
      " 7   Hero_Rating     329 non-null    int64  \n",
      " 8   movie_rating    329 non-null    int64  \n",
      " 9   content_rating  329 non-null    float64\n",
      "dtypes: float64(2), int64(4), object(4)\n",
      "memory usage: 25.8+ KB\n"
     ]
    }
   ],
   "source": [
    "df.info()"
   ]
  },
  {
   "cell_type": "code",
   "execution_count": 6,
   "id": "bad4bcbf-e75c-44d7-9e9a-ed3ea2240ce8",
   "metadata": {
    "tags": []
   },
   "outputs": [],
   "source": [
    "features = ['PeopleVote', 'Actor', 'Genre', 'Director']\n",
    "for feature in features:\n",
    "    df[feature] = df[feature].fillna('')"
   ]
  },
  {
   "cell_type": "code",
   "execution_count": 7,
   "id": "db98d159-4ab9-424f-8f85-5a64c630eb63",
   "metadata": {
    "tags": []
   },
   "outputs": [
    {
     "name": "stdout",
     "output_type": "stream",
     "text": [
      "0              Santha Kumar\n",
      "1           A.R. Murugadoss\n",
      "2               A. Sarkunam\n",
      "3             Venkat Prabhu\n",
      "4      Lawrence Raghavendra\n",
      "               ...         \n",
      "324                 Rambala\n",
      "325      Rajath Ravishankar\n",
      "326      Sakthi Chidambaram\n",
      "327        Karthik Subbaraj\n",
      "328                    Siva\n",
      "Name: Director, Length: 329, dtype: object\n"
     ]
    }
   ],
   "source": [
    "print (df[feature])"
   ]
  },
  {
   "cell_type": "code",
   "execution_count": 9,
   "id": "3fedea3d-b475-4fb8-824f-339c63051eaf",
   "metadata": {
    "tags": []
   },
   "outputs": [],
   "source": [
    "def combined_features(row):\n",
    "    return row['Actor']+\" \"+row['Genre']+\" \"+row['Director']\n",
    "df[\"combined_features\"] = df.apply(combined_features, axis =1)"
   ]
  },
  {
   "cell_type": "code",
   "execution_count": 10,
   "id": "f95c23fe-9297-4f40-8101-8abd1cc10c08",
   "metadata": {
    "tags": []
   },
   "outputs": [
    {
     "name": "stdout",
     "output_type": "stream",
     "text": [
      "0                         Arulnithi Action Santha Kumar\n",
      "1                         Suriya Action A.R. Murugadoss\n",
      "2                              Vimal Comedy A. Sarkunam\n",
      "3                      Ajith Kumar Action Venkat Prabhu\n",
      "4      Lawrence Raghavendra Comedy Lawrence Raghavendra\n",
      "                             ...                       \n",
      "324                            Santhanam Comedy Rambala\n",
      "325                    Karthi Action Rajath Ravishankar\n",
      "326               Prabhu Deva Comedy Sakthi Chidambaram\n",
      "327                 Rajinikanth Action Karthik Subbaraj\n",
      "328                             Ajith Kumar Action Siva\n",
      "Name: combined_features, Length: 329, dtype: object\n"
     ]
    }
   ],
   "source": [
    "print(df[\"combined_features\"])"
   ]
  },
  {
   "cell_type": "code",
   "execution_count": 11,
   "id": "83778c85-3390-42f0-9e9d-1f289440bdcd",
   "metadata": {
    "tags": []
   },
   "outputs": [
    {
     "name": "stdout",
     "output_type": "stream",
     "text": [
      "Count Matrix:  [[0 0 0 ... 0 0 0]\n",
      " [0 0 0 ... 0 0 0]\n",
      " [0 0 0 ... 0 0 0]\n",
      " ...\n",
      " [0 0 0 ... 0 0 0]\n",
      " [0 0 0 ... 0 0 0]\n",
      " [0 0 0 ... 0 0 0]]\n"
     ]
    }
   ],
   "source": [
    "cv = CountVectorizer()\n",
    "count_matrix = cv.fit_transform(df['combined_features'])\n",
    "print(\"Count Matrix: \",count_matrix.toarray())"
   ]
  },
  {
   "cell_type": "code",
   "execution_count": 12,
   "id": "b5a2903e-01a3-4f76-b0d7-ea944d28b2e6",
   "metadata": {
    "tags": []
   },
   "outputs": [],
   "source": [
    "cosine_sim = cosine_similarity(count_matrix)\n"
   ]
  },
  {
   "cell_type": "code",
   "execution_count": 13,
   "id": "ef4421a9-1f54-4ae4-a68d-f8d19bb7702c",
   "metadata": {
    "tags": []
   },
   "outputs": [
    {
     "name": "stdout",
     "output_type": "stream",
     "text": [
      "[[1.         0.28867513 0.         ... 0.         0.25       0.5       ]\n",
      " [0.28867513 1.         0.         ... 0.         0.28867513 0.28867513]\n",
      " [0.         0.         1.         ... 0.25819889 0.         0.        ]\n",
      " ...\n",
      " [0.         0.         0.25819889 ... 1.         0.         0.        ]\n",
      " [0.25       0.28867513 0.         ... 0.         1.         0.25      ]\n",
      " [0.5        0.28867513 0.         ... 0.         0.25       1.        ]]\n"
     ]
    }
   ],
   "source": [
    "print(cosine_sim)"
   ]
  },
  {
   "cell_type": "code",
   "execution_count": 30,
   "id": "a19916fc-18a7-4ba7-bb0e-5db87f013818",
   "metadata": {
    "tags": []
   },
   "outputs": [],
   "source": [
    "movie_user_like = \"Ko\"\n",
    "def get_index_from(MovieName):\n",
    "    return df[df.MovieName == MovieName][\"movie_rating\"].values[0]\n",
    "\n",
    "movie_index = get_index_from(movie_user_like)"
   ]
  },
  {
   "cell_type": "code",
   "execution_count": 31,
   "id": "5df5e0cc-eadf-45ef-818b-9bec2ead2a29",
   "metadata": {
    "tags": []
   },
   "outputs": [
    {
     "name": "stdout",
     "output_type": "stream",
     "text": [
      "7\n"
     ]
    }
   ],
   "source": [
    "print(movie_index)"
   ]
  },
  {
   "cell_type": "code",
   "execution_count": 18,
   "id": "32393fd5-f66c-4da6-b2b2-c0dc8164a075",
   "metadata": {
    "tags": []
   },
   "outputs": [
    {
     "data": {
      "text/html": [
       "<div>\n",
       "<style scoped>\n",
       "    .dataframe tbody tr th:only-of-type {\n",
       "        vertical-align: middle;\n",
       "    }\n",
       "\n",
       "    .dataframe tbody tr th {\n",
       "        vertical-align: top;\n",
       "    }\n",
       "\n",
       "    .dataframe thead th {\n",
       "        text-align: right;\n",
       "    }\n",
       "</style>\n",
       "<table border=\"1\" class=\"dataframe\">\n",
       "  <thead>\n",
       "    <tr style=\"text-align: right;\">\n",
       "      <th></th>\n",
       "      <th>MovieName</th>\n",
       "      <th>Genre</th>\n",
       "      <th>Rating</th>\n",
       "      <th>Director</th>\n",
       "      <th>Actor</th>\n",
       "      <th>PeopleVote</th>\n",
       "      <th>Year</th>\n",
       "      <th>Hero_Rating</th>\n",
       "      <th>movie_rating</th>\n",
       "      <th>content_rating</th>\n",
       "      <th>combined_features</th>\n",
       "    </tr>\n",
       "  </thead>\n",
       "  <tbody>\n",
       "    <tr>\n",
       "      <th>0</th>\n",
       "      <td>Mouna Guru</td>\n",
       "      <td>Action</td>\n",
       "      <td>7.7</td>\n",
       "      <td>Santha Kumar</td>\n",
       "      <td>Arulnithi</td>\n",
       "      <td>746</td>\n",
       "      <td>2011</td>\n",
       "      <td>8</td>\n",
       "      <td>8</td>\n",
       "      <td>7.900000</td>\n",
       "      <td>Arulnithi Action Santha Kumar</td>\n",
       "    </tr>\n",
       "    <tr>\n",
       "      <th>1</th>\n",
       "      <td>7 Aum Arivu</td>\n",
       "      <td>Action</td>\n",
       "      <td>6.2</td>\n",
       "      <td>A.R. Murugadoss</td>\n",
       "      <td>Suriya</td>\n",
       "      <td>9479</td>\n",
       "      <td>2011</td>\n",
       "      <td>9</td>\n",
       "      <td>9</td>\n",
       "      <td>8.066667</td>\n",
       "      <td>Suriya Action A.R. Murugadoss</td>\n",
       "    </tr>\n",
       "    <tr>\n",
       "      <th>2</th>\n",
       "      <td>Vaagai Sooda Vaa</td>\n",
       "      <td>Comedy</td>\n",
       "      <td>8.0</td>\n",
       "      <td>A. Sarkunam</td>\n",
       "      <td>Vimal</td>\n",
       "      <td>14522</td>\n",
       "      <td>2011</td>\n",
       "      <td>8</td>\n",
       "      <td>7</td>\n",
       "      <td>7.666667</td>\n",
       "      <td>Vimal Comedy A. Sarkunam</td>\n",
       "    </tr>\n",
       "    <tr>\n",
       "      <th>3</th>\n",
       "      <td>Mankatha</td>\n",
       "      <td>Action</td>\n",
       "      <td>7.6</td>\n",
       "      <td>Venkat Prabhu</td>\n",
       "      <td>Ajith Kumar</td>\n",
       "      <td>12276</td>\n",
       "      <td>2011</td>\n",
       "      <td>6</td>\n",
       "      <td>8</td>\n",
       "      <td>7.200000</td>\n",
       "      <td>Ajith Kumar Action Venkat Prabhu</td>\n",
       "    </tr>\n",
       "    <tr>\n",
       "      <th>4</th>\n",
       "      <td>Kanchana: Muni 2</td>\n",
       "      <td>Comedy</td>\n",
       "      <td>6.5</td>\n",
       "      <td>Lawrence Raghavendra</td>\n",
       "      <td>Lawrence Raghavendra</td>\n",
       "      <td>1044</td>\n",
       "      <td>2011</td>\n",
       "      <td>8</td>\n",
       "      <td>9</td>\n",
       "      <td>7.833333</td>\n",
       "      <td>Lawrence Raghavendra Comedy Lawrence Raghavendra</td>\n",
       "    </tr>\n",
       "    <tr>\n",
       "      <th>5</th>\n",
       "      <td>Deiva Thirumagal</td>\n",
       "      <td>Drama</td>\n",
       "      <td>8.1</td>\n",
       "      <td>A.L. Vijay</td>\n",
       "      <td>Vikram</td>\n",
       "      <td>44517</td>\n",
       "      <td>2011</td>\n",
       "      <td>9</td>\n",
       "      <td>9</td>\n",
       "      <td>8.700000</td>\n",
       "      <td>Vikram Drama A.L. Vijay</td>\n",
       "    </tr>\n",
       "    <tr>\n",
       "      <th>6</th>\n",
       "      <td>Vaanam</td>\n",
       "      <td>Action</td>\n",
       "      <td>7.2</td>\n",
       "      <td>Radha Krishna Jagarlamudi</td>\n",
       "      <td>T.R. Silambarasan</td>\n",
       "      <td>1307</td>\n",
       "      <td>2011</td>\n",
       "      <td>7</td>\n",
       "      <td>8</td>\n",
       "      <td>7.400000</td>\n",
       "      <td>T.R. Silambarasan Action Radha Krishna Jagarla...</td>\n",
       "    </tr>\n",
       "    <tr>\n",
       "      <th>7</th>\n",
       "      <td>Ko</td>\n",
       "      <td>Action</td>\n",
       "      <td>7.8</td>\n",
       "      <td>K.V. Anand</td>\n",
       "      <td>Jiiva</td>\n",
       "      <td>4759</td>\n",
       "      <td>2011</td>\n",
       "      <td>9</td>\n",
       "      <td>7</td>\n",
       "      <td>7.933333</td>\n",
       "      <td>Jiiva Action K.V. Anand</td>\n",
       "    </tr>\n",
       "    <tr>\n",
       "      <th>8</th>\n",
       "      <td>Payanam</td>\n",
       "      <td>Action</td>\n",
       "      <td>7.3</td>\n",
       "      <td>Radha Mohan</td>\n",
       "      <td>Nagarjuna Akkineni</td>\n",
       "      <td>677</td>\n",
       "      <td>2011</td>\n",
       "      <td>6</td>\n",
       "      <td>8</td>\n",
       "      <td>7.100000</td>\n",
       "      <td>Nagarjuna Akkineni Action Radha Mohan</td>\n",
       "    </tr>\n",
       "    <tr>\n",
       "      <th>9</th>\n",
       "      <td>Yutham Sei</td>\n",
       "      <td>Crime</td>\n",
       "      <td>8.0</td>\n",
       "      <td>Myshkin</td>\n",
       "      <td>Cheran</td>\n",
       "      <td>1678</td>\n",
       "      <td>2011</td>\n",
       "      <td>4</td>\n",
       "      <td>9</td>\n",
       "      <td>7.000000</td>\n",
       "      <td>Cheran Crime Myshkin</td>\n",
       "    </tr>\n",
       "  </tbody>\n",
       "</table>\n",
       "</div>"
      ],
      "text/plain": [
       "          MovieName   Genre  Rating                   Director   \n",
       "0        Mouna Guru  Action     7.7               Santha Kumar  \\\n",
       "1       7 Aum Arivu  Action     6.2            A.R. Murugadoss   \n",
       "2  Vaagai Sooda Vaa  Comedy     8.0                A. Sarkunam   \n",
       "3          Mankatha  Action     7.6              Venkat Prabhu   \n",
       "4  Kanchana: Muni 2  Comedy     6.5       Lawrence Raghavendra   \n",
       "5  Deiva Thirumagal   Drama     8.1                 A.L. Vijay   \n",
       "6            Vaanam  Action     7.2  Radha Krishna Jagarlamudi   \n",
       "7                Ko  Action     7.8                 K.V. Anand   \n",
       "8           Payanam  Action     7.3                Radha Mohan   \n",
       "9        Yutham Sei   Crime     8.0                    Myshkin   \n",
       "\n",
       "                  Actor  PeopleVote  Year  Hero_Rating  movie_rating   \n",
       "0             Arulnithi         746  2011            8             8  \\\n",
       "1                Suriya        9479  2011            9             9   \n",
       "2                 Vimal       14522  2011            8             7   \n",
       "3           Ajith Kumar       12276  2011            6             8   \n",
       "4  Lawrence Raghavendra        1044  2011            8             9   \n",
       "5                Vikram       44517  2011            9             9   \n",
       "6     T.R. Silambarasan        1307  2011            7             8   \n",
       "7                 Jiiva        4759  2011            9             7   \n",
       "8    Nagarjuna Akkineni         677  2011            6             8   \n",
       "9                Cheran        1678  2011            4             9   \n",
       "\n",
       "   content_rating                                  combined_features  \n",
       "0        7.900000                      Arulnithi Action Santha Kumar  \n",
       "1        8.066667                      Suriya Action A.R. Murugadoss  \n",
       "2        7.666667                           Vimal Comedy A. Sarkunam  \n",
       "3        7.200000                   Ajith Kumar Action Venkat Prabhu  \n",
       "4        7.833333   Lawrence Raghavendra Comedy Lawrence Raghavendra  \n",
       "5        8.700000                            Vikram Drama A.L. Vijay  \n",
       "6        7.400000  T.R. Silambarasan Action Radha Krishna Jagarla...  \n",
       "7        7.933333                            Jiiva Action K.V. Anand  \n",
       "8        7.100000              Nagarjuna Akkineni Action Radha Mohan  \n",
       "9        7.000000                               Cheran Crime Myshkin  "
      ]
     },
     "execution_count": 18,
     "metadata": {},
     "output_type": "execute_result"
    }
   ],
   "source": [
    "df.head(10)"
   ]
  },
  {
   "cell_type": "code",
   "execution_count": 26,
   "id": "9798a1fc-63fe-439c-af92-16c7a5c47f31",
   "metadata": {
    "tags": []
   },
   "outputs": [],
   "source": [
    "similar_movies = list(enumerate(cosine_sim[movie_index]))\n"
   ]
  },
  {
   "cell_type": "code",
   "execution_count": 32,
   "id": "43ec5c07-b768-4a99-8ef3-c99bc8f4468e",
   "metadata": {
    "tags": []
   },
   "outputs": [
    {
     "name": "stdout",
     "output_type": "stream",
     "text": [
      "[(0, 0.22360679774997896), (1, 0.25819888974716115), (2, 0.0), (3, 0.19999999999999998), (4, 0.0), (5, 0.0), (6, 0.39999999999999997), (7, 0.25819888974716115), (8, 0.9999999999999999), (9, 0.0), (10, 0.25819888974716115), (11, 0.0), (12, 0.22360679774997896), (13, 0.0), (14, 0.0), (15, 0.25819888974716115), (16, 0.0), (17, 0.0), (18, 0.0), (19, 0.0), (20, 0.0), (21, 0.22360679774997896), (22, 0.22360679774997896), (23, 0.0), (24, 0.25819888974716115), (25, 0.25819888974716115), (26, 0.22360679774997896), (27, 0.19999999999999998), (28, 0.0), (29, 0.0), (30, 0.0), (31, 0.0), (32, 0.0), (33, 0.0), (34, 0.0), (35, 0.25819888974716115), (36, 0.0), (37, 0.19999999999999998), (38, 0.0), (39, 0.0), (40, 0.0), (41, 0.0), (42, 0.0), (43, 0.0), (44, 0.0), (45, 0.25819888974716115), (46, 0.0), (47, 0.22360679774997896), (48, 0.0), (49, 0.22360679774997896), (50, 0.0), (51, 0.22360679774997896), (52, 0.25819888974716115), (53, 0.0), (54, 0.0), (55, 0.0), (56, 0.0), (57, 0.19999999999999998), (58, 0.0), (59, 0.0), (60, 0.0), (61, 0.19999999999999998), (62, 0.22360679774997896), (63, 0.25819888974716115), (64, 0.0), (65, 0.0), (66, 0.19999999999999998), (67, 0.19999999999999998), (68, 0.0), (69, 0.0), (70, 0.0), (71, 0.39999999999999997), (72, 0.0), (73, 0.0), (74, 0.0), (75, 0.0), (76, 0.0), (77, 0.0), (78, 0.0), (79, 0.22360679774997896), (80, 0.0), (81, 0.0), (82, 0.18257418583505539), (83, 0.25819888974716115), (84, 0.22360679774997896), (85, 0.0), (86, 0.19999999999999998), (87, 0.0), (88, 0.0), (89, 0.0), (90, 0.0), (91, 0.0), (92, 0.22360679774997896), (93, 0.22360679774997896), (94, 0.0), (95, 0.14907119849998596), (96, 0.22360679774997896), (97, 0.19999999999999998), (98, 0.39999999999999997), (99, 0.0), (100, 0.22360679774997896), (101, 0.22360679774997896), (102, 0.19999999999999998), (103, 0.22360679774997896), (104, 0.0), (105, 0.19999999999999998), (106, 0.0), (107, 0.0), (108, 0.0), (109, 0.0), (110, 0.25819888974716115), (111, 0.22360679774997896), (112, 0.0), (113, 0.0), (114, 0.22360679774997896), (115, 0.22360679774997896), (116, 0.0), (117, 0.0), (118, 0.0), (119, 0.0), (120, 0.0), (121, 0.4472135954999579), (122, 0.25819888974716115), (123, 0.25819888974716115), (124, 0.0), (125, 0.0), (126, 0.25819888974716115), (127, 0.19999999999999998), (128, 0.22360679774997896), (129, 0.0), (130, 0.0), (131, 0.19999999999999998), (132, 0.0), (133, 0.25819888974716115), (134, 0.22360679774997896), (135, 0.19999999999999998), (136, 0.0), (137, 0.0), (138, 0.0), (139, 0.0), (140, 0.19999999999999998), (141, 0.0), (142, 0.19999999999999998), (143, 0.0), (144, 0.22360679774997896), (145, 0.22360679774997896), (146, 0.0), (147, 0.22360679774997896), (148, 0.0), (149, 0.0), (150, 0.25819888974716115), (151, 0.0), (152, 0.22360679774997896), (153, 0.0), (154, 0.22360679774997896), (155, 0.0), (156, 0.22360679774997896), (157, 0.0), (158, 0.0), (159, 0.19999999999999998), (160, 0.0), (161, 0.0), (162, 0.19999999999999998), (163, 0.0), (164, 0.25819888974716115), (165, 0.25819888974716115), (166, 0.0), (167, 0.25819888974716115), (168, 0.0), (169, 0.0), (170, 0.0), (171, 0.22360679774997896), (172, 0.0), (173, 0.1690308509457033), (174, 0.25819888974716115), (175, 0.19999999999999998), (176, 0.0), (177, 0.0), (178, 0.0), (179, 0.19999999999999998), (180, 0.39999999999999997), (181, 0.0), (182, 0.0), (183, 0.0), (184, 0.0), (185, 0.0), (186, 0.4472135954999579), (187, 0.0), (188, 0.19999999999999998), (189, 0.19999999999999998), (190, 0.22360679774997896), (191, 0.25819888974716115), (192, 0.25819888974716115), (193, 0.0), (194, 0.22360679774997896), (195, 0.25819888974716115), (196, 0.0), (197, 0.19999999999999998), (198, 0.22360679774997896), (199, 0.0), (200, 0.22360679774997896), (201, 0.22360679774997896), (202, 0.0), (203, 0.19999999999999998), (204, 0.0), (205, 0.0), (206, 0.0), (207, 0.22360679774997896), (208, 0.0), (209, 0.0), (210, 0.19999999999999998), (211, 0.19999999999999998), (212, 0.0), (213, 0.0), (214, 0.0), (215, 0.4472135954999579), (216, 0.19999999999999998), (217, 0.0), (218, 0.0), (219, 0.19999999999999998), (220, 0.19999999999999998), (221, 0.25819888974716115), (222, 0.4472135954999579), (223, 0.22360679774997896), (224, 0.25819888974716115), (225, 0.25819888974716115), (226, 0.25819888974716115), (227, 0.19999999999999998), (228, 0.0), (229, 0.0), (230, 0.0), (231, 0.19999999999999998), (232, 0.0), (233, 0.25819888974716115), (234, 0.0), (235, 0.25819888974716115), (236, 0.22360679774997896), (237, 0.0), (238, 0.0), (239, 0.0), (240, 0.0), (241, 0.22360679774997896), (242, 0.0), (243, 0.22360679774997896), (244, 0.0), (245, 0.25819888974716115), (246, 0.0), (247, 0.0), (248, 0.22360679774997896), (249, 0.25819888974716115), (250, 0.0), (251, 0.0), (252, 0.22360679774997896), (253, 0.0), (254, 0.0), (255, 0.18257418583505539), (256, 0.0), (257, 0.25819888974716115), (258, 0.0), (259, 0.0), (260, 0.0), (261, 0.22360679774997896), (262, 0.0), (263, 0.0), (264, 0.22360679774997896), (265, 0.22360679774997896), (266, 0.19999999999999998), (267, 0.0), (268, 0.22360679774997896), (269, 0.19999999999999998), (270, 0.0), (271, 0.25819888974716115), (272, 0.25819888974716115), (273, 0.0), (274, 0.25819888974716115), (275, 0.0), (276, 0.0), (277, 0.0), (278, 0.0), (279, 0.22360679774997896), (280, 0.25819888974716115), (281, 0.0), (282, 0.0), (283, 0.22360679774997896), (284, 0.25819888974716115), (285, 0.19999999999999998), (286, 0.22360679774997896), (287, 0.0), (288, 0.0), (289, 0.0), (290, 0.0), (291, 0.0), (292, 0.0), (293, 0.19999999999999998), (294, 0.0), (295, 0.0), (296, 0.19999999999999998), (297, 0.25819888974716115), (298, 0.0), (299, 0.0), (300, 0.4472135954999579), (301, 0.25819888974716115), (302, 0.22360679774997896), (303, 0.25819888974716115), (304, 0.19999999999999998), (305, 0.0), (306, 0.0), (307, 0.14907119849998596), (308, 0.0), (309, 0.22360679774997896), (310, 0.14907119849998596), (311, 0.0), (312, 0.0), (313, 0.19999999999999998), (314, 0.0), (315, 0.0), (316, 0.0), (317, 0.0), (318, 0.0), (319, 0.22360679774997896), (320, 0.19999999999999998), (321, 0.0), (322, 0.0), (323, 0.25819888974716115), (324, 0.0), (325, 0.22360679774997896), (326, 0.0), (327, 0.22360679774997896), (328, 0.22360679774997896)]\n"
     ]
    }
   ],
   "source": [
    "print(similar_movies)"
   ]
  },
  {
   "cell_type": "code",
   "execution_count": null,
   "id": "9621be1e-bad5-42d4-9955-2cbc42fde77c",
   "metadata": {},
   "outputs": [],
   "source": []
  },
  {
   "cell_type": "code",
   "execution_count": 33,
   "id": "fd63e8fb-e283-4f0b-99c9-1b0f408757b4",
   "metadata": {
    "tags": []
   },
   "outputs": [
    {
     "name": "stdout",
     "output_type": "stream",
     "text": [
      "[(8, 0.9999999999999999), (121, 0.4472135954999579), (186, 0.4472135954999579), (215, 0.4472135954999579), (222, 0.4472135954999579), (300, 0.4472135954999579), (6, 0.39999999999999997), (71, 0.39999999999999997), (98, 0.39999999999999997), (180, 0.39999999999999997), (1, 0.25819888974716115), (7, 0.25819888974716115), (10, 0.25819888974716115), (15, 0.25819888974716115), (24, 0.25819888974716115), (25, 0.25819888974716115), (35, 0.25819888974716115), (45, 0.25819888974716115), (52, 0.25819888974716115), (63, 0.25819888974716115), (83, 0.25819888974716115), (110, 0.25819888974716115), (122, 0.25819888974716115), (123, 0.25819888974716115), (126, 0.25819888974716115), (133, 0.25819888974716115), (150, 0.25819888974716115), (164, 0.25819888974716115), (165, 0.25819888974716115), (167, 0.25819888974716115), (174, 0.25819888974716115), (191, 0.25819888974716115), (192, 0.25819888974716115), (195, 0.25819888974716115), (221, 0.25819888974716115), (224, 0.25819888974716115), (225, 0.25819888974716115), (226, 0.25819888974716115), (233, 0.25819888974716115), (235, 0.25819888974716115), (245, 0.25819888974716115), (249, 0.25819888974716115), (257, 0.25819888974716115), (271, 0.25819888974716115), (272, 0.25819888974716115), (274, 0.25819888974716115), (280, 0.25819888974716115), (284, 0.25819888974716115), (297, 0.25819888974716115), (301, 0.25819888974716115), (303, 0.25819888974716115), (323, 0.25819888974716115), (0, 0.22360679774997896), (12, 0.22360679774997896), (21, 0.22360679774997896), (22, 0.22360679774997896), (26, 0.22360679774997896), (47, 0.22360679774997896), (49, 0.22360679774997896), (51, 0.22360679774997896), (62, 0.22360679774997896), (79, 0.22360679774997896), (84, 0.22360679774997896), (92, 0.22360679774997896), (93, 0.22360679774997896), (96, 0.22360679774997896), (100, 0.22360679774997896), (101, 0.22360679774997896), (103, 0.22360679774997896), (111, 0.22360679774997896), (114, 0.22360679774997896), (115, 0.22360679774997896), (128, 0.22360679774997896), (134, 0.22360679774997896), (144, 0.22360679774997896), (145, 0.22360679774997896), (147, 0.22360679774997896), (152, 0.22360679774997896), (154, 0.22360679774997896), (156, 0.22360679774997896), (171, 0.22360679774997896), (190, 0.22360679774997896), (194, 0.22360679774997896), (198, 0.22360679774997896), (200, 0.22360679774997896), (201, 0.22360679774997896), (207, 0.22360679774997896), (223, 0.22360679774997896), (236, 0.22360679774997896), (241, 0.22360679774997896), (243, 0.22360679774997896), (248, 0.22360679774997896), (252, 0.22360679774997896), (261, 0.22360679774997896), (264, 0.22360679774997896), (265, 0.22360679774997896), (268, 0.22360679774997896), (279, 0.22360679774997896), (283, 0.22360679774997896), (286, 0.22360679774997896), (302, 0.22360679774997896), (309, 0.22360679774997896), (319, 0.22360679774997896), (325, 0.22360679774997896), (327, 0.22360679774997896), (328, 0.22360679774997896), (3, 0.19999999999999998), (27, 0.19999999999999998), (37, 0.19999999999999998), (57, 0.19999999999999998), (61, 0.19999999999999998), (66, 0.19999999999999998), (67, 0.19999999999999998), (86, 0.19999999999999998), (97, 0.19999999999999998), (102, 0.19999999999999998), (105, 0.19999999999999998), (127, 0.19999999999999998), (131, 0.19999999999999998), (135, 0.19999999999999998), (140, 0.19999999999999998), (142, 0.19999999999999998), (159, 0.19999999999999998), (162, 0.19999999999999998), (175, 0.19999999999999998), (179, 0.19999999999999998), (188, 0.19999999999999998), (189, 0.19999999999999998), (197, 0.19999999999999998), (203, 0.19999999999999998), (210, 0.19999999999999998), (211, 0.19999999999999998), (216, 0.19999999999999998), (219, 0.19999999999999998), (220, 0.19999999999999998), (227, 0.19999999999999998), (231, 0.19999999999999998), (266, 0.19999999999999998), (269, 0.19999999999999998), (285, 0.19999999999999998), (293, 0.19999999999999998), (296, 0.19999999999999998), (304, 0.19999999999999998), (313, 0.19999999999999998), (320, 0.19999999999999998), (82, 0.18257418583505539), (255, 0.18257418583505539), (173, 0.1690308509457033), (95, 0.14907119849998596), (307, 0.14907119849998596), (310, 0.14907119849998596), (2, 0.0), (4, 0.0), (5, 0.0), (9, 0.0), (11, 0.0), (13, 0.0), (14, 0.0), (16, 0.0), (17, 0.0), (18, 0.0), (19, 0.0), (20, 0.0), (23, 0.0), (28, 0.0), (29, 0.0), (30, 0.0), (31, 0.0), (32, 0.0), (33, 0.0), (34, 0.0), (36, 0.0), (38, 0.0), (39, 0.0), (40, 0.0), (41, 0.0), (42, 0.0), (43, 0.0), (44, 0.0), (46, 0.0), (48, 0.0), (50, 0.0), (53, 0.0), (54, 0.0), (55, 0.0), (56, 0.0), (58, 0.0), (59, 0.0), (60, 0.0), (64, 0.0), (65, 0.0), (68, 0.0), (69, 0.0), (70, 0.0), (72, 0.0), (73, 0.0), (74, 0.0), (75, 0.0), (76, 0.0), (77, 0.0), (78, 0.0), (80, 0.0), (81, 0.0), (85, 0.0), (87, 0.0), (88, 0.0), (89, 0.0), (90, 0.0), (91, 0.0), (94, 0.0), (99, 0.0), (104, 0.0), (106, 0.0), (107, 0.0), (108, 0.0), (109, 0.0), (112, 0.0), (113, 0.0), (116, 0.0), (117, 0.0), (118, 0.0), (119, 0.0), (120, 0.0), (124, 0.0), (125, 0.0), (129, 0.0), (130, 0.0), (132, 0.0), (136, 0.0), (137, 0.0), (138, 0.0), (139, 0.0), (141, 0.0), (143, 0.0), (146, 0.0), (148, 0.0), (149, 0.0), (151, 0.0), (153, 0.0), (155, 0.0), (157, 0.0), (158, 0.0), (160, 0.0), (161, 0.0), (163, 0.0), (166, 0.0), (168, 0.0), (169, 0.0), (170, 0.0), (172, 0.0), (176, 0.0), (177, 0.0), (178, 0.0), (181, 0.0), (182, 0.0), (183, 0.0), (184, 0.0), (185, 0.0), (187, 0.0), (193, 0.0), (196, 0.0), (199, 0.0), (202, 0.0), (204, 0.0), (205, 0.0), (206, 0.0), (208, 0.0), (209, 0.0), (212, 0.0), (213, 0.0), (214, 0.0), (217, 0.0), (218, 0.0), (228, 0.0), (229, 0.0), (230, 0.0), (232, 0.0), (234, 0.0), (237, 0.0), (238, 0.0), (239, 0.0), (240, 0.0), (242, 0.0), (244, 0.0), (246, 0.0), (247, 0.0), (250, 0.0), (251, 0.0), (253, 0.0), (254, 0.0), (256, 0.0), (258, 0.0), (259, 0.0), (260, 0.0), (262, 0.0), (263, 0.0), (267, 0.0), (270, 0.0), (273, 0.0), (275, 0.0), (276, 0.0), (277, 0.0), (278, 0.0), (281, 0.0), (282, 0.0), (287, 0.0), (288, 0.0), (289, 0.0), (290, 0.0), (291, 0.0), (292, 0.0), (294, 0.0), (295, 0.0), (298, 0.0), (299, 0.0), (305, 0.0), (306, 0.0), (308, 0.0), (311, 0.0), (312, 0.0), (314, 0.0), (315, 0.0), (316, 0.0), (317, 0.0), (318, 0.0), (321, 0.0), (322, 0.0), (324, 0.0), (326, 0.0)]\n"
     ]
    }
   ],
   "source": [
    "sorted_similar_movies = sorted(similar_movies, key = lambda x:x[1], reverse = True)\n",
    "print(sorted_similar_movies)"
   ]
  },
  {
   "cell_type": "raw",
   "id": "c3d4e09b-b9d3-4e70-b94f-4f383fca5055",
   "metadata": {},
   "source": [
    "print(df[df.index][\"MovieName\"].values[0])"
   ]
  },
  {
   "cell_type": "code",
   "execution_count": 35,
   "id": "8f7370a1-54b4-4df9-afc2-c3c2feb3a9af",
   "metadata": {
    "tags": []
   },
   "outputs": [
    {
     "name": "stdout",
     "output_type": "stream",
     "text": [
      "Payanam\n",
      "Velaikkaran\n",
      "Brindavanam\n",
      "Maari 2\n",
      "Kaatrin Mozhi\n",
      "Ayogya\n",
      "Vaanam\n",
      "Thani Oruvan\n",
      "Oopiri\n",
      "Sathriyan\n",
      "7 Aum Arivu\n",
      "Ko\n",
      "Aadukalam\n",
      "The Fly\n",
      "Irandam Ulagam\n",
      "Pandiya Naadu\n"
     ]
    }
   ],
   "source": [
    "def get_title_from_index(index):\n",
    "    return df[df.index == index][\"MovieName\"].values[0]\n",
    "\n",
    "i=0\n",
    "for movies in sorted_similar_movies:\n",
    "    print(get_title_from_index(movies[0]))\n",
    "    i = i+1;\n",
    "    if i>15:\n",
    "        break"
   ]
  },
  {
   "cell_type": "code",
   "execution_count": null,
   "id": "c1a3761c-c0d0-4cf9-ac46-972c23777683",
   "metadata": {},
   "outputs": [],
   "source": []
  }
 ],
 "metadata": {
  "kernelspec": {
   "display_name": "Python 3 (ipykernel)",
   "language": "python",
   "name": "python3"
  },
  "language_info": {
   "codemirror_mode": {
    "name": "ipython",
    "version": 3
   },
   "file_extension": ".py",
   "mimetype": "text/x-python",
   "name": "python",
   "nbconvert_exporter": "python",
   "pygments_lexer": "ipython3",
   "version": "3.11.1"
  }
 },
 "nbformat": 4,
 "nbformat_minor": 5
}
